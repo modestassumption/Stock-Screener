{
 "cells": [
  {
   "cell_type": "code",
   "execution_count": 127,
   "id": "6b3bcfbf-afeb-4236-9891-4e7fa9188078",
   "metadata": {},
   "outputs": [],
   "source": [
    "import yfinance as yf\n",
    "import pandas as pd\n",
    "import numpy as np\n",
    "from datetime import date\n",
    "import time"
   ]
  },
  {
   "cell_type": "code",
   "execution_count": 128,
   "id": "940056ef-4a53-4b0b-9db5-02789c283259",
   "metadata": {},
   "outputs": [],
   "source": [
    "today = date.today().isoformat()\n",
    "pd.set_option('display.max_rows', 20)"
   ]
  },
  {
   "cell_type": "code",
   "execution_count": 129,
   "id": "ac821acd-30cd-4793-880e-391b743df0e9",
   "metadata": {},
   "outputs": [],
   "source": [
    "ticker_df = pd.read_csv(\"Tickers_NSE200\")\n",
    "ticker_original = ticker_df"
   ]
  },
  {
   "cell_type": "code",
   "execution_count": 130,
   "id": "4359c411-e553-4e74-b3ec-742219f1212a",
   "metadata": {},
   "outputs": [],
   "source": [
    "ticker_df = ticker_df.drop(ticker_df.columns[0], axis=1)"
   ]
  },
  {
   "cell_type": "code",
   "execution_count": 131,
   "id": "97a2f49f-ae71-4240-974c-3cfc34a6a30a",
   "metadata": {},
   "outputs": [],
   "source": [
    "ticker_df['Ticker'] = ticker_df['Ticker'].astype(str) + '.NS' "
   ]
  },
  {
   "cell_type": "code",
   "execution_count": null,
   "id": "3e08f6aa-3ca2-4b37-bfcf-960620ef8b31",
   "metadata": {},
   "outputs": [
    {
     "name": "stdout",
     "output_type": "stream",
     "text": [
      "Wait for a minute or two. Processing request.\n"
     ]
    },
    {
     "name": "stderr",
     "output_type": "stream",
     "text": [
      "$DUMMYABFRL.NS: possibly delisted; no timezone found\n",
      "$DUMMYSIEMS.NS: possibly delisted; no timezone found\n"
     ]
    },
    {
     "name": "stdout",
     "output_type": "stream",
     "text": [
      "Completed.\n"
     ]
    }
   ],
   "source": [
    "historical_data={}\n",
    "print('Wait for a minute or two. Processing request.')\n",
    "\n",
    "for tick in ticker_df['Ticker']:\n",
    "        try:\n",
    "                ticker = yf.Ticker(tick)\n",
    "                data = ticker.history(start = '1999-01-01', end = today)\n",
    "                df = pd.DataFrame(data)\n",
    "                df.to_csv(f'{tick}_data.csv')\n",
    "                historical_data[tick] = df\n",
    "                num_rows = data.shape[0]\n",
    "\n",
    "        except Exception as e:\n",
    "                print(f\"Error for ticker '{tick}': {e}\")\n",
    "    \n",
    "print('Completed.')"
   ]
  },
  {
   "cell_type": "code",
   "execution_count": 113,
   "id": "886eae0d-65ab-4de4-8eb9-ebab22e31b74",
   "metadata": {},
   "outputs": [],
   "source": [
    "def SMA (ticker, day = None):\n",
    "    data = historical_data[str(ticker)]\n",
    "    if day is None:\n",
    "        average = (sum(data['Close']))/num_rows\n",
    "\n",
    "    else:\n",
    "        average = (sum(data['Close'][:day]))/(day)\n",
    "    return average"
   ]
  },
  {
   "cell_type": "code",
   "execution_count": 114,
   "id": "6080cbb5-ce46-4826-a2b2-ec21189a41db",
   "metadata": {},
   "outputs": [],
   "source": [
    "def EMA (ticker, span = 12):\n",
    "    data = historical_data[str(ticker)]\n",
    "    ema = data['Close'].ewm(span = span, adjust = False).mean()\n",
    "    return ema.iloc[-1]\n",
    "    "
   ]
  },
  {
   "cell_type": "code",
   "execution_count": 115,
   "id": "adfb4f4a-c600-4327-961a-f064324cb664",
   "metadata": {},
   "outputs": [],
   "source": [
    "def MACD(ticker, span1 = 12, span2 = 26):\n",
    "    EMA_12 = EMA(ticker, span1)\n",
    "    EMA_26 = EMA(ticker, span2)\n",
    "\n",
    "    return (EMA_12 - EMA_26)\n",
    "\n",
    "def sig_line(ticker):\n",
    "    signal_line = EMA(ticker, 9)\n",
    "    return signal_line"
   ]
  },
  {
   "cell_type": "code",
   "execution_count": 123,
   "id": "94371d2b-ddf3-401d-bd80-3bebc10cc56f",
   "metadata": {},
   "outputs": [
    {
     "name": "stdout",
     "output_type": "stream",
     "text": [
      "ABB.NS\n",
      "                                  Open         High          Low        Close  \\\n",
      "Date                                                                            \n",
      "2002-07-01 00:00:00+05:30     7.298925     7.561768     7.203223     7.331275   \n",
      "2002-07-02 00:00:00+05:30     7.476851     7.478199     7.227488     7.290839   \n",
      "2002-07-03 00:00:00+05:30     7.346100     7.548287     7.231528     7.490326   \n",
      "2002-07-04 00:00:00+05:30     7.490330     7.653427     7.467416     7.533463   \n",
      "2002-07-05 00:00:00+05:30     7.580638     7.761258     7.548289     7.607596   \n",
      "...                                ...          ...          ...          ...   \n",
      "2025-06-10 00:00:00+05:30  6260.000000  6260.000000  6160.000000  6168.000000   \n",
      "2025-06-11 00:00:00+05:30  6190.000000  6195.000000  6034.000000  6077.000000   \n",
      "2025-06-12 00:00:00+05:30  6079.000000  6099.000000  5975.000000  6021.000000   \n",
      "2025-06-13 00:00:00+05:30  5890.000000  6017.500000  5885.000000  5999.000000   \n",
      "2025-06-16 00:00:00+05:30  6001.000000  6045.000000  5941.000000  6014.000000   \n",
      "\n",
      "                           Volume  Dividends  Stock Splits  \n",
      "Date                                                        \n",
      "2002-07-01 00:00:00+05:30  268312        0.0           0.0  \n",
      "2002-07-02 00:00:00+05:30  133963        0.0           0.0  \n",
      "2002-07-03 00:00:00+05:30   89276        0.0           0.0  \n",
      "2002-07-04 00:00:00+05:30  313347        0.0           0.0  \n",
      "2002-07-05 00:00:00+05:30  262469        0.0           0.0  \n",
      "...                           ...        ...           ...  \n",
      "2025-06-10 00:00:00+05:30  207893        0.0           0.0  \n",
      "2025-06-11 00:00:00+05:30  294907        0.0           0.0  \n",
      "2025-06-12 00:00:00+05:30  369396        0.0           0.0  \n",
      "2025-06-13 00:00:00+05:30  220342        0.0           0.0  \n",
      "2025-06-16 00:00:00+05:30  133245        0.0           0.0  \n",
      "\n",
      "[5702 rows x 7 columns]\n"
     ]
    }
   ],
   "source": [
    "for ticker in ticker_df['Ticker'][:1]:\n",
    "    print (ticker)\n",
    "    print(historical_data[str(ticker)])"
   ]
  },
  {
   "cell_type": "code",
   "execution_count": null,
   "id": "f4483363-e7c1-41d9-9978-8f064dc39dfc",
   "metadata": {},
   "outputs": [],
   "source": [
    "print(SMA('ABB.NS'))\n",
    "print(EMA('ABB.NS'))"
   ]
  },
  {
   "cell_type": "code",
   "execution_count": null,
   "id": "6504d831-13ad-4435-8fc1-66b444845df2",
   "metadata": {},
   "outputs": [],
   "source": [
    "MACD('ABB.NS')"
   ]
  }
 ],
 "metadata": {
  "kernelspec": {
   "display_name": "Python 3 (ipykernel)",
   "language": "python",
   "name": "python3"
  },
  "language_info": {
   "codemirror_mode": {
    "name": "ipython",
    "version": 3
   },
   "file_extension": ".py",
   "mimetype": "text/x-python",
   "name": "python",
   "nbconvert_exporter": "python",
   "pygments_lexer": "ipython3",
   "version": "3.12.7"
  }
 },
 "nbformat": 4,
 "nbformat_minor": 5
}
