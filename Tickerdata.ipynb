{
 "cells": [
  {
   "cell_type": "code",
   "execution_count": 1,
   "id": "6c4d9f62-46d6-4e34-a990-d9d5f6a43d92",
   "metadata": {},
   "outputs": [],
   "source": [
    "from selenium import webdriver\n",
    "from selenium.webdriver.chrome.service import Service\n",
    "from selenium.webdriver.common.by import By\n",
    "from selenium.webdriver.support.ui import WebDriverWait\n",
    "from selenium.webdriver.support import expected_conditions as EC\n",
    "from selenium.webdriver.common.keys import Keys\n",
    "from selenium.webdriver.common.action_chains import ActionChains\n",
    "import pandas as pd\n",
    "import time"
   ]
  },
  {
   "cell_type": "code",
   "execution_count": 2,
   "id": "f2592f7b-d514-4d4f-b57b-3d5dd3f6ebfc",
   "metadata": {},
   "outputs": [],
   "source": [
    "website = 'https://www.niftyindices.com/market-data/equity-stock-watch'"
   ]
  },
  {
   "cell_type": "code",
   "execution_count": 3,
   "id": "38917152-a7b1-4515-8d1a-a8b6ba4ce88f",
   "metadata": {},
   "outputs": [],
   "source": [
    "path = r'D:\\Downloads\\chromedriver-win64\\chromedriver.exe'"
   ]
  },
  {
   "cell_type": "code",
   "execution_count": 4,
   "id": "5144fc58-0a35-4ad3-8ad5-1395a4226271",
   "metadata": {},
   "outputs": [],
   "source": [
    "service = Service(path)\n",
    "driver = webdriver.Chrome(service=service)\n",
    "driver.get(website)"
   ]
  },
  {
   "cell_type": "code",
   "execution_count": 5,
   "id": "a2027da7-2954-4ed1-a6b2-6cf6ce75f2c7",
   "metadata": {},
   "outputs": [],
   "source": [
    "wait = WebDriverWait(driver, 10)"
   ]
  },
  {
   "cell_type": "code",
   "execution_count": 6,
   "id": "f05e31a5-4571-43a4-b749-959d23f11eaa",
   "metadata": {},
   "outputs": [],
   "source": [
    "locator = (\n",
    "    By.XPATH,\n",
    "    \"//a[contains(@class,'btn') and contains(@class,'btn-select')]\" #Not 'btn btn-select active', active brought only after dropdown accessed.\n",
    ")\n",
    "dropdown_trigger = wait.until(EC.element_to_be_clickable(locator))\n",
    "dropdown_trigger.click()"
   ]
  },
  {
   "cell_type": "code",
   "execution_count": 7,
   "id": "59822982-5d77-4cde-a649-fd8b6efb5c6e",
   "metadata": {},
   "outputs": [],
   "source": [
    "all_options = wait.until(\n",
    "    EC.presence_of_all_elements_located((By.CSS_SELECTOR, \"ul#ddlStocks .mCSB_container li\"))\n",
    ")"
   ]
  },
  {
   "cell_type": "code",
   "execution_count": 8,
   "id": "a9dfa937-727d-48c9-a732-54de0b53dbca",
   "metadata": {},
   "outputs": [],
   "source": [
    "for option in all_options:\n",
    "    driver.execute_script(\"arguments[0].scrollIntoView({ block: 'center' });\", option)\n",
    "    time.sleep(0.1) \n",
    "    if option.text.strip() == \"Nifty 200\":\n",
    "        wait.until(EC.element_to_be_clickable(option))\n",
    "        option.click()\n",
    "        break\n",
    "  \n",
    "\n",
    "else:\n",
    "    print(\"Loop completed without finding 'Nifty 200'\")"
   ]
  },
  {
   "cell_type": "code",
   "execution_count": 9,
   "id": "2aa37ddd-15a7-41d3-9e50-058b332bd1de",
   "metadata": {
    "scrolled": true
   },
   "outputs": [],
   "source": [
    "time.sleep(1)\n",
    "table = driver.find_element(By.CLASS_NAME, \"equityTable\")\n",
    "rows = table.find_elements(By.TAG_NAME, \"tr\")  \n",
    "time.sleep(0.5)"
   ]
  },
  {
   "cell_type": "code",
   "execution_count": 10,
   "id": "770abc85-f470-41f7-b4c9-1fad40063893",
   "metadata": {},
   "outputs": [],
   "source": [
    "dataset = []\n",
    "for row in rows:\n",
    "    cells = row.find_elements(By.TAG_NAME, \"td\")\n",
    "    if cells:\n",
    "        dataset.append(cells[0].text)\n",
    "\n"
   ]
  },
  {
   "cell_type": "code",
   "execution_count": 11,
   "id": "b46e75ad-daec-4595-a48d-d8b90dd6f246",
   "metadata": {},
   "outputs": [],
   "source": [
    "pd.set_option('display.max_rows',10)\n",
    "df = pd.DataFrame(dataset)\n",
    "df = df.rename(columns = { 0:'Ticker'})\n",
    "df.to_csv(\"Tickers_NSE200\")"
   ]
  },
  {
   "cell_type": "code",
   "execution_count": 12,
   "id": "96c67834-9029-47a5-8997-2ab68473beef",
   "metadata": {},
   "outputs": [],
   "source": [
    "driver.close()"
   ]
  }
 ],
 "metadata": {
  "kernelspec": {
   "display_name": "Python 3 (ipykernel)",
   "language": "python",
   "name": "python3"
  },
  "language_info": {
   "codemirror_mode": {
    "name": "ipython",
    "version": 3
   },
   "file_extension": ".py",
   "mimetype": "text/x-python",
   "name": "python",
   "nbconvert_exporter": "python",
   "pygments_lexer": "ipython3",
   "version": "3.12.7"
  }
 },
 "nbformat": 4,
 "nbformat_minor": 5
}
